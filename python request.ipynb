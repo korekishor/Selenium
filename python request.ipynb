{
 "cells": [
  {
   "cell_type": "code",
   "execution_count": null,
   "id": "f73a42e1",
   "metadata": {},
   "outputs": [],
   "source": [
    "delete(url, args)\t Sends a DELETE request to the specified url\n",
    "get(url, params, args)\t Sends a GET request to the specified url\n",
    "head(url, args) \t Sends a HEAD request to the specified url\n",
    "patch(url, data, args)\tSends a PATCH request to the specified url\n",
    "post(url, data, json, args)\tSends a POST request to the specified url\n",
    "put(url, data, args)\tSends a PUT request to the specified url\n",
    "request(method, url, args)\tSends a request of the specified method to the specified url\n"
   ]
  },
  {
   "cell_type": "code",
   "execution_count": null,
   "id": "427ccb9b",
   "metadata": {},
   "outputs": [],
   "source": []
  }
 ],
 "metadata": {
  "kernelspec": {
   "display_name": "Python 3 (ipykernel)",
   "language": "python",
   "name": "python3"
  },
  "language_info": {
   "codemirror_mode": {
    "name": "ipython",
    "version": 3
   },
   "file_extension": ".py",
   "mimetype": "text/x-python",
   "name": "python",
   "nbconvert_exporter": "python",
   "pygments_lexer": "ipython3",
   "version": "3.10.4"
  }
 },
 "nbformat": 4,
 "nbformat_minor": 5
}
